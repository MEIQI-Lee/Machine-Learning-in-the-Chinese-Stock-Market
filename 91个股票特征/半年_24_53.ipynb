{
 "cells": [
  {
   "cell_type": "code",
   "execution_count": 1,
   "metadata": {},
   "outputs": [],
   "source": [
    "import numpy as np\n",
    "import pandas as pd\n",
    "from utils.diff import diff"
   ]
  },
  {
   "cell_type": "code",
   "execution_count": 2,
   "metadata": {},
   "outputs": [],
   "source": [
    "# 24. depr\n",
    "# 半年频率。折旧除以固定资产。\n",
    "\n",
    "# 53. pchdepr\n",
    "# 半年频率。折旧变动百分比。"
   ]
  },
  {
   "cell_type": "code",
   "execution_count": 3,
   "metadata": {},
   "outputs": [
    {
     "name": "stdout",
     "output_type": "stream",
     "text": [
      "          证券代码        会计期间      depr   pchdepr\n",
      "0            1  2000-06-30  0.047606       NaN\n",
      "1            1  2000-12-31  0.044944  0.044860\n",
      "2            1  2001-06-30  0.047096  0.139446\n",
      "3            1  2001-12-31  0.048491  0.051976\n",
      "4            1  2002-06-30  0.047973  0.164755\n",
      "...        ...         ...       ...       ...\n",
      "282676  920118  2022-06-30       NaN       NaN\n",
      "282677  920118  2022-12-31       NaN       NaN\n",
      "282678  920118  2023-06-30       NaN       NaN\n",
      "282679  920118  2023-12-31       NaN       NaN\n",
      "282680  920118  2024-06-30  0.059376       NaN\n",
      "\n",
      "[282681 rows x 4 columns]\n"
     ]
    }
   ],
   "source": [
    "import pandas as pd\n",
    "import numpy as np\n",
    "from utils.diff import diff \n",
    "\n",
    "# 读取资产负债表\n",
    "df1 = pd.read_csv('季_资产负债表.csv', usecols=['证券代码', '会计期间', '固定资产净额'], low_memory=False)\n",
    "\n",
    "# 确保证券代码为整数类型\n",
    "df1['证券代码'] = pd.to_numeric(df1['证券代码'], errors='coerce').fillna(0).astype(int)\n",
    "\n",
    "# 读取现金流量表\n",
    "df2 = pd.read_csv('季_现金流量表(间接法).csv', usecols=['证券代码', '会计期间', '固定资产折旧、油气资产折耗、生产性生物资产折旧', '查询成功'], low_memory=False)\n",
    "\n",
    "# 确保证券代码为整数类型\n",
    "df2['证券代码'] = pd.to_numeric(df2['证券代码'], errors='coerce').fillna(0).astype(int)\n",
    "\n",
    "# 填充缺失值\n",
    "df2.loc[df2['查询成功'].astype('bool'), '固定资产折旧、油气资产折耗、生产性生物资产折旧'] = df2['固定资产折旧、油气资产折耗、生产性生物资产折旧'].fillna(0)\n",
    "\n",
    "# 合并数据\n",
    "df3 = pd.merge(df1, df2, on=['证券代码', '会计期间'], how='left')\n",
    "\n",
    "# 标记半年\n",
    "df3['半年'] = df3['会计期间'].apply(lambda x: True if x[5:7] in ['06', '12'] else False)\n",
    "df3 = df3[df3['半年']].reset_index(drop=True)\n",
    "\n",
    "# 计算差异\n",
    "df3 = diff(df3, col=['固定资产折旧、油气资产折耗、生产性生物资产折旧'], freq='半年')\n",
    "\n",
    "# 计算折旧比率\n",
    "df3['depr'] = df3['固定资产折旧、油气资产折耗、生产性生物资产折旧'] / df3['固定资产净额'].replace(0, np.nan)\n",
    "\n",
    "# 计算变化率\n",
    "df3['pchdepr'] = (df3['固定资产折旧、油气资产折耗、生产性生物资产折旧'] - df3.groupby('证券代码')['固定资产折旧、油气资产折耗、生产性生物资产折旧'].shift(1)) / df3.groupby('证券代码')['固定资产折旧、油气资产折耗、生产性生物资产折旧'].shift(1).replace(0, np.nan)\n",
    "\n",
    "# 选择最终列并导出\n",
    "df4 = df3[['证券代码', '会计期间', 'depr', 'pchdepr']]\n",
    "df4.to_csv('半年_24_53.csv', index=False, encoding='utf-8-sig')\n",
    "\n",
    "# 输出结果 DataFrame\n",
    "print(df4)"
   ]
  },
  {
   "cell_type": "code",
   "execution_count": null,
   "metadata": {},
   "outputs": [],
   "source": []
  }
 ],
 "metadata": {
  "kernelspec": {
   "display_name": "Python 3 (ipykernel)",
   "language": "python",
   "name": "python3"
  },
  "language_info": {
   "codemirror_mode": {
    "name": "ipython",
    "version": 3
   },
   "file_extension": ".py",
   "mimetype": "text/x-python",
   "name": "python",
   "nbconvert_exporter": "python",
   "pygments_lexer": "ipython3",
   "version": "3.9.13"
  }
 },
 "nbformat": 4,
 "nbformat_minor": 4
}
