{
 "cells": [
  {
   "cell_type": "code",
   "execution_count": 4,
   "metadata": {},
   "outputs": [],
   "source": [
    "import numpy as np\n",
    "import pandas as pd\n",
    "from utils.diff import diff"
   ]
  },
  {
   "cell_type": "code",
   "execution_count": 5,
   "metadata": {},
   "outputs": [],
   "source": [
    "# 32. grCAPX\n",
    "# 半年频率。资本支出从t-2到t年的百分比变化。"
   ]
  },
  {
   "cell_type": "code",
   "execution_count": 6,
   "metadata": {},
   "outputs": [
    {
     "name": "stdout",
     "output_type": "stream",
     "text": [
      "          证券代码        会计期间    grCAPX\n",
      "0            1  2000-06-30       NaN\n",
      "1            1  2000-12-31       NaN\n",
      "2            1  2001-06-30       NaN\n",
      "3            1  2001-12-31       NaN\n",
      "4            1  2002-06-30 -0.105246\n",
      "...        ...         ...       ...\n",
      "282676  920118  2022-06-30       NaN\n",
      "282677  920118  2022-12-31       NaN\n",
      "282678  920118  2023-06-30       NaN\n",
      "282679  920118  2023-12-31       NaN\n",
      "282680  920118  2024-06-30       NaN\n",
      "\n",
      "[282681 rows x 3 columns]\n"
     ]
    }
   ],
   "source": [
    "import pandas as pd\n",
    "import numpy as np\n",
    "from utils.diff import diff  # 确保 diff 函数正确导入\n",
    "\n",
    "# 读取现金流量表\n",
    "df1 = pd.read_csv('季_现金流量表(直接法).csv', usecols=['证券代码', '会计期间', '购建固定资产、无形资产和其他长期资产支付的现金'])\n",
    "\n",
    "# 确保证券代码为整数类型\n",
    "df1['证券代码'] = pd.to_numeric(df1['证券代码'], errors='coerce').fillna(0).astype(int)\n",
    "\n",
    "# 标记半年\n",
    "df1['半年'] = df1['会计期间'].apply(lambda x: x[5:7] in ['06', '12'])\n",
    "df2 = df1[df1['半年']].reset_index(drop=True)\n",
    "\n",
    "# 计算差异\n",
    "df2 = diff(df2, col=['购建固定资产、无形资产和其他长期资产支付的现金'], freq='半年')\n",
    "\n",
    "# 计算增长率\n",
    "df2['grCAPX'] = (df2['购建固定资产、无形资产和其他长期资产支付的现金'] - \n",
    "                df2.groupby('证券代码').shift(4)['购建固定资产、无形资产和其他长期资产支付的现金']) / \\\n",
    "                df2.groupby('证券代码').shift(4)['购建固定资产、无形资产和其他长期资产支付的现金'].replace(0, np.nan)\n",
    "\n",
    "# 选择最终列并导出\n",
    "df3 = df2[['证券代码', '会计期间', 'grCAPX']]\n",
    "df3.to_csv('半年_32.csv', index=False, encoding='utf-8-sig')\n",
    "\n",
    "# 输出结果 DataFrame\n",
    "print(df3)"
   ]
  },
  {
   "cell_type": "code",
   "execution_count": null,
   "metadata": {},
   "outputs": [],
   "source": []
  }
 ],
 "metadata": {
  "kernelspec": {
   "display_name": "Python 3 (ipykernel)",
   "language": "python",
   "name": "python3"
  },
  "language_info": {
   "codemirror_mode": {
    "name": "ipython",
    "version": 3
   },
   "file_extension": ".py",
   "mimetype": "text/x-python",
   "name": "python",
   "nbconvert_exporter": "python",
   "pygments_lexer": "ipython3",
   "version": "3.9.13"
  }
 },
 "nbformat": 4,
 "nbformat_minor": 4
}
