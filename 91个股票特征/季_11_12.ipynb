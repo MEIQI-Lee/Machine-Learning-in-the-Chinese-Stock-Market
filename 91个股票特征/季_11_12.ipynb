{
 "cells": [
  {
   "cell_type": "code",
   "execution_count": 1,
   "metadata": {},
   "outputs": [],
   "source": [
    "import numpy as np\n",
    "import pandas as pd\n",
    "from utils.diff import diff"
   ]
  },
  {
   "cell_type": "code",
   "execution_count": 2,
   "metadata": {},
   "outputs": [],
   "source": [
    "# 11. cfp\n",
    "# 季度频率。营运现金流除以季度末市值。\n",
    "\n",
    "# 12. cfp_ia\n",
    "# 季度频率。经行业调整后的营运现金流。调整方法与bm_ia类似。"
   ]
  },
  {
   "cell_type": "code",
   "execution_count": 3,
   "metadata": {},
   "outputs": [
    {
     "name": "stdout",
     "output_type": "stream",
     "text": [
      "          证券代码        会计期间  cfp  cfp_ia\n",
      "0            1  2000-03-31  NaN     NaN\n",
      "1            1  2000-06-30  NaN     NaN\n",
      "2            1  2000-09-30  NaN     NaN\n",
      "3            1  2000-12-31  NaN     NaN\n",
      "4            1  2001-03-31  NaN     NaN\n",
      "...        ...         ...  ...     ...\n",
      "571126  920118  2023-09-30  NaN     NaN\n",
      "571127  920118  2023-12-31  NaN     NaN\n",
      "571128  920118  2024-03-31  NaN     NaN\n",
      "571129  920118  2024-06-30  NaN     NaN\n",
      "571130  920118  2024-09-30  NaN     NaN\n",
      "\n",
      "[571131 rows x 4 columns]\n"
     ]
    }
   ],
   "source": [
    "import pandas as pd\n",
    "import numpy as np\n",
    "from utils.diff import diff  # 确保 diff 函数正确导入\n",
    "\n",
    "# 读取现金流量表\n",
    "df1 = pd.read_csv('季_现金流量表(直接法).csv', usecols=['证券代码', '会计期间', '经营活动产生的现金流量净额'], low_memory=False)\n",
    "\n",
    "# 确保证券代码为整数类型\n",
    "df1['证券代码'] = pd.to_numeric(df1['证券代码'], errors='coerce').fillna(0).astype(int)\n",
    "\n",
    "# 读取相对价值指标\n",
    "df2 = pd.read_csv('季_相对价值指标.csv', usecols=['证券代码', '会计期间', '市值A'])\n",
    "\n",
    "# 确保证券代码为整数类型\n",
    "df2['证券代码'] = pd.to_numeric(df2['证券代码'], errors='coerce').fillna(0).astype(int)\n",
    "\n",
    "# 合并数据\n",
    "df3 = pd.merge(df1, df2, on=['证券代码', '会计期间'], how='left')\n",
    "\n",
    "# 计算差异\n",
    "df3 = diff(df3, col=['经营活动产生的现金流量净额'])\n",
    "\n",
    "# 计算现金流占市值比例\n",
    "df3['cfp'] = df3['经营活动产生的现金流量净额'] / df3['市值A'].replace(0, np.nan)\n",
    "\n",
    "# 读取公司文件\n",
    "df4 = pd.read_csv('公司文件.csv', usecols=['证券代码', '行业代码C'])\n",
    "\n",
    "# 确保证券代码为整数类型\n",
    "df4['证券代码'] = pd.to_numeric(df4['证券代码'], errors='coerce').fillna(0).astype(int)\n",
    "\n",
    "# 合并数据\n",
    "df5 = pd.merge(df3, df4, on=['证券代码'], how='left')\n",
    "\n",
    "# 计算行业平均\n",
    "df6 = df5[['行业代码C', '会计期间', 'cfp']].groupby(['行业代码C', '会计期间']).mean().reset_index()\n",
    "df6.rename(columns={'cfp': 'cfp_i'}, inplace=True)\n",
    "\n",
    "# 合并行业平均\n",
    "df7 = pd.merge(df5, df6, on=['行业代码C', '会计期间'], how='left')\n",
    "\n",
    "# 计算差异\n",
    "df7['cfp_ia'] = df7['cfp'] - df7['cfp_i']\n",
    "\n",
    "# 选择最终列并导出\n",
    "df8 = df7[['证券代码', '会计期间', 'cfp', 'cfp_ia']]\n",
    "df8.to_csv('季_11_12.csv', index=False, encoding='utf-8-sig')\n",
    "\n",
    "# 输出结果 DataFrame\n",
    "print(df8)"
   ]
  },
  {
   "cell_type": "code",
   "execution_count": null,
   "metadata": {},
   "outputs": [],
   "source": []
  }
 ],
 "metadata": {
  "kernelspec": {
   "display_name": "Python 3 (ipykernel)",
   "language": "python",
   "name": "python3"
  },
  "language_info": {
   "codemirror_mode": {
    "name": "ipython",
    "version": 3
   },
   "file_extension": ".py",
   "mimetype": "text/x-python",
   "name": "python",
   "nbconvert_exporter": "python",
   "pygments_lexer": "ipython3",
   "version": "3.9.13"
  }
 },
 "nbformat": 4,
 "nbformat_minor": 4
}
