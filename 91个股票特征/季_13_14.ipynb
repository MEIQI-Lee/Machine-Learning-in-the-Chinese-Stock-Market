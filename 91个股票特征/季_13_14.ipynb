{
 "cells": [
  {
   "cell_type": "code",
   "execution_count": 1,
   "metadata": {},
   "outputs": [],
   "source": [
    "import numpy as np\n",
    "import pandas as pd\n",
    "from utils.diff import diff"
   ]
  },
  {
   "cell_type": "code",
   "execution_count": 2,
   "metadata": {},
   "outputs": [],
   "source": [
    "# 13. chato\n",
    "# 季度频率。销售变化量除以平均总资产。\n",
    "\n",
    "# 14. chato_ia\n",
    "# 季度频率。经行业调整的销售变化除以平均总资产。"
   ]
  },
  {
   "cell_type": "code",
   "execution_count": 3,
   "metadata": {},
   "outputs": [
    {
     "name": "stdout",
     "output_type": "stream",
     "text": [
      "          证券代码        会计期间     chato  chato_ia\n",
      "0            1  2000-03-31       NaN       NaN\n",
      "1         1227  2000-03-31       NaN       NaN\n",
      "2         2142  2000-03-31       NaN       NaN\n",
      "3         2807  2000-03-31       NaN       NaN\n",
      "4         2839  2000-03-31       NaN       NaN\n",
      "...        ...         ...       ...       ...\n",
      "571126  605086  2024-03-31 -0.012032  0.022008\n",
      "571127  603505  2024-06-30  0.037905  0.019271\n",
      "571128  605086  2024-06-30 -0.000638 -0.019271\n",
      "571129  603505  2024-09-30  0.006325 -0.009886\n",
      "571130  605086  2024-09-30  0.026097  0.009886\n",
      "\n",
      "[571131 rows x 4 columns]\n"
     ]
    }
   ],
   "source": [
    "import pandas as pd\n",
    "import numpy as np\n",
    "from utils.diff import diff  # 确保 diff 函数正确导入\n",
    "\n",
    "# 读取利润表\n",
    "df1 = pd.read_csv('季_利润表.csv', usecols=['证券代码', '会计期间', '营业总收入'])\n",
    "\n",
    "# 确保证券代码为整数类型\n",
    "df1['证券代码'] = pd.to_numeric(df1['证券代码'], errors='coerce').fillna(0).astype(int)\n",
    "\n",
    "# 计算营业总收入的差异\n",
    "df1 = diff(df1, col=['营业总收入'])\n",
    "df1['DTSale'] = df1['营业总收入'] - df1.groupby('证券代码').shift(1)['营业总收入']\n",
    "\n",
    "# 读取资产负债表\n",
    "df2 = pd.read_csv('季_资产负债表.csv', usecols=['证券代码', '会计期间', '资产总计'], low_memory=False)\n",
    "\n",
    "# 确保证券代码为整数类型\n",
    "df2['证券代码'] = pd.to_numeric(df2['证券代码'], errors='coerce').fillna(0).astype(int)\n",
    "\n",
    "# 计算资产总计的平均值\n",
    "df2['AveTA'] = (df2['资产总计'] + df2.groupby('证券代码').shift(1)['资产总计']) / 2\n",
    "\n",
    "# 合并数据\n",
    "df3 = pd.merge(df1, df2, on=['证券代码', '会计期间'], how='left')\n",
    "\n",
    "# 计算销售与平均资产的比率\n",
    "df3['chato'] = df3['DTSale'] / df3['AveTA'].replace(0, np.nan)\n",
    "\n",
    "# 读取公司文件\n",
    "df4 = pd.read_csv('公司文件.csv', usecols=['证券代码', '行业代码C'])\n",
    "\n",
    "# 确保证券代码为整数类型\n",
    "df4['证券代码'] = pd.to_numeric(df4['证券代码'], errors='coerce').fillna(0).astype(int)\n",
    "\n",
    "# 合并数据\n",
    "df5 = pd.merge(df3, df4, on=['证券代码'])\n",
    "\n",
    "# 计算行业平均\n",
    "df6 = df5[['行业代码C', '会计期间', 'chato']].groupby(['行业代码C', '会计期间']).mean().reset_index()\n",
    "df6.rename(columns={'chato': 'chato_i'}, inplace=True)\n",
    "\n",
    "# 合并行业平均\n",
    "df7 = pd.merge(df5, df6, on=['行业代码C', '会计期间'])\n",
    "\n",
    "# 计算与行业平均的差异\n",
    "df7['chato_ia'] = df7['chato'] - df7['chato_i']\n",
    "\n",
    "# 选择最终列并导出\n",
    "df8 = df7[['证券代码', '会计期间', 'chato', 'chato_ia']]\n",
    "df8.to_csv('季_13_14.csv', index=False, encoding='utf-8-sig')\n",
    "\n",
    "# 输出结果 DataFrame\n",
    "print(df8)"
   ]
  },
  {
   "cell_type": "code",
   "execution_count": 4,
   "metadata": {},
   "outputs": [
    {
     "name": "stderr",
     "output_type": "stream",
     "text": [
      "C:\\Users\\dell\\AppData\\Local\\Temp\\ipykernel_18836\\3973791433.py:53: SettingWithCopyWarning: \n",
      "A value is trying to be set on a copy of a slice from a DataFrame\n",
      "\n",
      "See the caveats in the documentation: https://pandas.pydata.org/pandas-docs/stable/user_guide/indexing.html#returning-a-view-versus-a-copy\n",
      "  df8.sort_values(by=['证券代码', '会计期间'], inplace=True)\n"
     ]
    },
    {
     "name": "stdout",
     "output_type": "stream",
     "text": [
      "          证券代码        会计期间  chato  chato_ia\n",
      "0            1  2000-03-31    NaN       NaN\n",
      "44           1  2000-06-30    NaN       NaN\n",
      "88           1  2000-09-30    NaN       NaN\n",
      "132          1  2000-12-31    NaN       NaN\n",
      "176          1  2001-03-31    NaN       NaN\n",
      "...        ...         ...    ...       ...\n",
      "511487  920118  2023-09-30    NaN       NaN\n",
      "511622  920118  2023-12-31    NaN       NaN\n",
      "511757  920118  2024-03-31    NaN       NaN\n",
      "511892  920118  2024-06-30    NaN       NaN\n",
      "512027  920118  2024-09-30    NaN       NaN\n",
      "\n",
      "[571131 rows x 4 columns]\n"
     ]
    }
   ],
   "source": [
    "import pandas as pd\n",
    "import numpy as np\n",
    "from utils.diff import diff  # 确保 diff 函数正确导入\n",
    "\n",
    "# 读取利润表\n",
    "df1 = pd.read_csv('季_利润表.csv', usecols=['证券代码', '会计期间', '营业总收入'])\n",
    "\n",
    "# 确保证券代码为整数类型\n",
    "df1['证券代码'] = pd.to_numeric(df1['证券代码'], errors='coerce').fillna(0).astype(int)\n",
    "\n",
    "# 计算营业总收入的差异\n",
    "df1 = diff(df1, col=['营业总收入'])\n",
    "df1['DTSale'] = df1['营业总收入'] - df1.groupby('证券代码').shift(1)['营业总收入']\n",
    "\n",
    "# 读取资产负债表\n",
    "df2 = pd.read_csv('季_资产负债表.csv', usecols=['证券代码', '会计期间', '资产总计'], low_memory=False)\n",
    "\n",
    "# 确保证券代码为整数类型\n",
    "df2['证券代码'] = pd.to_numeric(df2['证券代码'], errors='coerce').fillna(0).astype(int)\n",
    "\n",
    "# 计算资产总计的平均值\n",
    "df2['AveTA'] = (df2['资产总计'] + df2.groupby('证券代码').shift(1)['资产总计']) / 2\n",
    "\n",
    "# 合并数据\n",
    "df3 = pd.merge(df1, df2, on=['证券代码', '会计期间'], how='left')\n",
    "\n",
    "# 计算销售与平均资产的比率\n",
    "df3['chato'] = df3['DTSale'] / df3['AveTA'].replace(0, np.nan)\n",
    "\n",
    "# 读取公司文件\n",
    "df4 = pd.read_csv('公司文件.csv', usecols=['证券代码', '行业代码C'])\n",
    "\n",
    "# 确保证券代码为整数类型\n",
    "df4['证券代码'] = pd.to_numeric(df4['证券代码'], errors='coerce').fillna(0).astype(int)\n",
    "\n",
    "# 合并数据\n",
    "df5 = pd.merge(df3, df4, on=['证券代码'])\n",
    "\n",
    "# 计算行业平均\n",
    "df6 = df5[['行业代码C', '会计期间', 'chato']].groupby(['行业代码C', '会计期间']).mean().reset_index()\n",
    "df6.rename(columns={'chato': 'chato_i'}, inplace=True)\n",
    "\n",
    "# 合并行业平均\n",
    "df7 = pd.merge(df5, df6, on=['行业代码C', '会计期间'])\n",
    "\n",
    "# 计算与行业平均的差异\n",
    "df7['chato_ia'] = df7['chato'] - df7['chato_i']\n",
    "\n",
    "# 选择最终列并导出\n",
    "df8 = df7[['证券代码', '会计期间', 'chato', 'chato_ia']]\n",
    "\n",
    "# 按证券代码和会计期间排序\n",
    "df8.sort_values(by=['证券代码', '会计期间'], inplace=True)\n",
    "\n",
    "df8.to_csv('季_13_14.csv', index=False, encoding='utf-8-sig')\n",
    "\n",
    "# 输出结果 DataFrame\n",
    "print(df8)"
   ]
  },
  {
   "cell_type": "code",
   "execution_count": null,
   "metadata": {},
   "outputs": [],
   "source": []
  }
 ],
 "metadata": {
  "kernelspec": {
   "display_name": "Python 3 (ipykernel)",
   "language": "python",
   "name": "python3"
  },
  "language_info": {
   "codemirror_mode": {
    "name": "ipython",
    "version": 3
   },
   "file_extension": ".py",
   "mimetype": "text/x-python",
   "name": "python",
   "nbconvert_exporter": "python",
   "pygments_lexer": "ipython3",
   "version": "3.9.13"
  }
 },
 "nbformat": 4,
 "nbformat_minor": 4
}
