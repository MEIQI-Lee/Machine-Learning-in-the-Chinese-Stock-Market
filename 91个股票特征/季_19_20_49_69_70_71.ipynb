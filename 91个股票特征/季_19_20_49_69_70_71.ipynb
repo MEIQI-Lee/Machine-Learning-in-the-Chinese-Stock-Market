{
 "cells": [
  {
   "cell_type": "code",
   "execution_count": 1,
   "metadata": {},
   "outputs": [],
   "source": [
    "import numpy as np\n",
    "import pandas as pd\n",
    "from utils.diff import diff"
   ]
  },
  {
   "cell_type": "code",
   "execution_count": 2,
   "metadata": {},
   "outputs": [],
   "source": [
    "# net income before extraordinary items 特别项目前收入\n",
    "# extraordinary items可以认为是营业外净收入\n",
    "# 净利润 + 营业外支出 - 营业外收入\n",
    "# 或：营业利润 - 所得税"
   ]
  },
  {
   "cell_type": "code",
   "execution_count": 3,
   "metadata": {},
   "outputs": [
    {
     "name": "stdout",
     "output_type": "stream",
     "text": [
      "          证券代码        会计期间  chpm  chpm_ia  operprof  roaq  roavol  roeq\n",
      "0            1  2000-03-31   NaN      NaN       NaN   NaN     NaN   NaN\n",
      "1            1  2000-06-30   NaN      NaN       NaN   NaN     NaN   NaN\n",
      "2            1  2000-09-30   NaN      NaN       NaN   NaN     NaN   NaN\n",
      "3            1  2000-12-31   NaN      NaN       NaN   NaN     NaN   NaN\n",
      "4            1  2001-03-31   NaN      NaN       NaN   NaN     NaN   NaN\n",
      "...        ...         ...   ...      ...       ...   ...     ...   ...\n",
      "571126  920118  2023-09-30   NaN      NaN       NaN   NaN     NaN   NaN\n",
      "571127  920118  2023-12-31   NaN      NaN       NaN   NaN     NaN   NaN\n",
      "571128  920118  2024-03-31   NaN      NaN       NaN   NaN     NaN   NaN\n",
      "571129  920118  2024-06-30   NaN      NaN       NaN   NaN     NaN   NaN\n",
      "571130  920118  2024-09-30   NaN      NaN       NaN   NaN     NaN   NaN\n",
      "\n",
      "[571131 rows x 8 columns]\n"
     ]
    }
   ],
   "source": [
    "import pandas as pd\n",
    "import numpy as np\n",
    "from utils.diff import diff  # 确保 diff 函数正确导入\n",
    "\n",
    "# 读取资产负债表\n",
    "df1 = pd.read_csv('季_资产负债表.csv', usecols=['证券代码', '会计期间', '资产总计', '所有者权益合计'], low_memory=False)\n",
    "\n",
    "# 确保证券代码为整数类型\n",
    "df1['证券代码'] = pd.to_numeric(df1['证券代码'], errors='coerce').fillna(0).astype(int)\n",
    "\n",
    "# 读取利润表\n",
    "df2 = pd.read_csv('季_利润表.csv', usecols=['证券代码', '会计期间', '营业利润', '减：所得税费用'])\n",
    "\n",
    "# 确保证券代码为整数类型\n",
    "df2['证券代码'] = pd.to_numeric(df2['证券代码'], errors='coerce').fillna(0).astype(int)\n",
    "\n",
    "# 合并数据\n",
    "df3 = pd.merge(df1, df2, on=['证券代码', '会计期间'], how='left')\n",
    "\n",
    "# 计算营业利润和所得税费用的差异\n",
    "df3 = diff(df3, col=['营业利润', '减：所得税费用'])\n",
    "df3['特别项目前收入'] = df3['营业利润'] - df3['减：所得税费用']\n",
    "\n",
    "# 计算 roaq\n",
    "df3['roaq'] = df3['特别项目前收入'] / df3.groupby('证券代码').shift(1)['资产总计'].replace(0, np.nan)\n",
    "\n",
    "# 计算 roavol\n",
    "df3['平均资产'] = df3[['证券代码', '资产总计']].groupby('证券代码').rolling(window=16).mean().reset_index(level=0, drop=True)\n",
    "df3['特别项目前收入标准差'] = df3[['证券代码', '特别项目前收入']].groupby('证券代码').rolling(window=16).std().reset_index(level=0, drop=True)\n",
    "df3['roavol'] = df3['特别项目前收入标准差'] / df3['平均资产'].replace(0, np.nan)\n",
    "\n",
    "# 计算 roeq\n",
    "df3['roeq'] = df3['特别项目前收入'] / df3.groupby('证券代码').shift(1)['所有者权益合计'].replace(0, np.nan)\n",
    "\n",
    "# 计算 operprof\n",
    "df3['operprof'] = df3['营业利润'] / df3.groupby('证券代码').shift(1)['所有者权益合计'].replace(0, np.nan)\n",
    "\n",
    "# 计算 chpm\n",
    "df3['chpm'] = (df3['特别项目前收入'] - df3.groupby('证券代码').shift(1)['特别项目前收入']) / df3['资产总计'].replace(0, np.nan)\n",
    "\n",
    "# 读取公司文件\n",
    "df4 = pd.read_csv('公司文件.csv', usecols=['证券代码', '行业代码C'])\n",
    "\n",
    "# 确保证券代码为整数类型\n",
    "df4['证券代码'] = pd.to_numeric(df4['证券代码'], errors='coerce').fillna(0).astype(int)\n",
    "\n",
    "# 合并数据\n",
    "df5 = pd.merge(df3, df4, on=['证券代码'])\n",
    "\n",
    "# 计算行业调整后的 chpm\n",
    "df6 = df5[['行业代码C', '会计期间', 'chpm']].groupby(['行业代码C', '会计期间']).mean().reset_index()\n",
    "df6.rename(columns={'chpm': 'chpm_i'}, inplace=True)\n",
    "\n",
    "# 合并行业平均\n",
    "df7 = pd.merge(df5, df6, on=['行业代码C', '会计期间'], how='left')\n",
    "df7['chpm_ia'] = df7['chpm'] - df7['chpm_i']\n",
    "\n",
    "# 选择最终列并导出\n",
    "df8 = df7[['证券代码', '会计期间', 'chpm', 'chpm_ia', 'operprof', 'roaq', 'roavol', 'roeq']]\n",
    "df8.to_csv('季_19_20_49_69_70_71.csv', index=False, encoding='utf-8-sig')\n",
    "\n",
    "# 输出结果 DataFrame\n",
    "print(df8)"
   ]
  },
  {
   "cell_type": "code",
   "execution_count": null,
   "metadata": {},
   "outputs": [],
   "source": []
  }
 ],
 "metadata": {
  "kernelspec": {
   "display_name": "Python 3 (ipykernel)",
   "language": "python",
   "name": "python3"
  },
  "language_info": {
   "codemirror_mode": {
    "name": "ipython",
    "version": 3
   },
   "file_extension": ".py",
   "mimetype": "text/x-python",
   "name": "python",
   "nbconvert_exporter": "python",
   "pygments_lexer": "ipython3",
   "version": "3.9.13"
  }
 },
 "nbformat": 4,
 "nbformat_minor": 4
}
