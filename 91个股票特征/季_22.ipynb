{
 "cells": [
  {
   "cell_type": "code",
   "execution_count": 1,
   "metadata": {},
   "outputs": [],
   "source": [
    "import numpy as np\n",
    "import pandas as pd\n",
    "from utils.diff import diff"
   ]
  },
  {
   "cell_type": "code",
   "execution_count": 2,
   "metadata": {},
   "outputs": [],
   "source": [
    "# 22.  cinvest\n",
    "# 季度频率。固定资产的变化除以销售，然后取前三个季度该变量的平均值"
   ]
  },
  {
   "cell_type": "code",
   "execution_count": 3,
   "metadata": {},
   "outputs": [
    {
     "name": "stdout",
     "output_type": "stream",
     "text": [
      "          证券代码        会计期间  cinvest\n",
      "0            1  2000-03-31      NaN\n",
      "1            1  2000-06-30      NaN\n",
      "2            1  2000-09-30      NaN\n",
      "3            1  2000-12-31      NaN\n",
      "4            1  2001-03-31      NaN\n",
      "...        ...         ...      ...\n",
      "571126  920118  2023-09-30      NaN\n",
      "571127  920118  2023-12-31      NaN\n",
      "571128  920118  2024-03-31      NaN\n",
      "571129  920118  2024-06-30      NaN\n",
      "571130  920118  2024-09-30      NaN\n",
      "\n",
      "[571131 rows x 3 columns]\n"
     ]
    }
   ],
   "source": [
    "import pandas as pd\n",
    "import numpy as np\n",
    "from utils.diff import diff  # 确保 diff 函数正确导入\n",
    "\n",
    "# 读取资产负债表\n",
    "df1 = pd.read_csv('季_资产负债表.csv', usecols=['证券代码', '会计期间', '固定资产净额'], low_memory=False)\n",
    "\n",
    "# 确保证券代码为整数类型\n",
    "df1['证券代码'] = pd.to_numeric(df1['证券代码'], errors='coerce').fillna(0).astype(int)\n",
    "\n",
    "# 读取利润表\n",
    "df2 = pd.read_csv('季_利润表.csv', usecols=['证券代码', '会计期间', '营业收入'])\n",
    "\n",
    "# 确保证券代码为整数类型\n",
    "df2['证券代码'] = pd.to_numeric(df2['证券代码'], errors='coerce').fillna(0).astype(int)\n",
    "\n",
    "# 合并数据\n",
    "df3 = pd.merge(df1, df2, on=['证券代码', '会计期间'], how='left')\n",
    "\n",
    "# 计算营业收入的差异\n",
    "df3 = diff(df3, col=['营业收入'])\n",
    "\n",
    "# 计算 _cinvest\n",
    "df3['_cinvest'] = (df3['固定资产净额'] - df3.groupby('证券代码').shift(1)['固定资产净额']) / df3['营业收入'].replace(0, np.nan)\n",
    "\n",
    "# 计算 cinvest 的三期滚动平均\n",
    "df3['cinvest'] = df3[['证券代码', '_cinvest']].groupby('证券代码').rolling(window=3).mean().shift(1).reset_index(level=0, drop=True)\n",
    "\n",
    "# 选择最终列并导出\n",
    "df4 = df3[['证券代码', '会计期间', 'cinvest']]\n",
    "df4.to_csv('季_22.csv', index=False, encoding='utf-8-sig')\n",
    "\n",
    "# 输出结果 DataFrame\n",
    "print(df4)"
   ]
  },
  {
   "cell_type": "code",
   "execution_count": null,
   "metadata": {},
   "outputs": [],
   "source": []
  }
 ],
 "metadata": {
  "kernelspec": {
   "display_name": "Python 3 (ipykernel)",
   "language": "python",
   "name": "python3"
  },
  "language_info": {
   "codemirror_mode": {
    "name": "ipython",
    "version": 3
   },
   "file_extension": ".py",
   "mimetype": "text/x-python",
   "name": "python",
   "nbconvert_exporter": "python",
   "pygments_lexer": "ipython3",
   "version": "3.9.13"
  }
 },
 "nbformat": 4,
 "nbformat_minor": 4
}
