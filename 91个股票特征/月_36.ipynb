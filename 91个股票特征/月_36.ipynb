{
 "cells": [
  {
   "cell_type": "code",
   "execution_count": 1,
   "metadata": {},
   "outputs": [],
   "source": [
    "import numpy as np\n",
    "import pandas as pd"
   ]
  },
  {
   "cell_type": "code",
   "execution_count": 2,
   "metadata": {},
   "outputs": [
    {
     "data": {
      "text/html": [
       "<div>\n",
       "<style scoped>\n",
       "    .dataframe tbody tr th:only-of-type {\n",
       "        vertical-align: middle;\n",
       "    }\n",
       "\n",
       "    .dataframe tbody tr th {\n",
       "        vertical-align: top;\n",
       "    }\n",
       "\n",
       "    .dataframe thead th {\n",
       "        text-align: right;\n",
       "    }\n",
       "</style>\n",
       "<table border=\"1\" class=\"dataframe\">\n",
       "  <thead>\n",
       "    <tr style=\"text-align: right;\">\n",
       "      <th></th>\n",
       "      <th>证券代码</th>\n",
       "      <th>交易月份</th>\n",
       "      <th>月份</th>\n",
       "    </tr>\n",
       "  </thead>\n",
       "  <tbody>\n",
       "    <tr>\n",
       "      <th>0</th>\n",
       "      <td>1</td>\n",
       "      <td>2000-01-31</td>\n",
       "      <td>2000-01</td>\n",
       "    </tr>\n",
       "    <tr>\n",
       "      <th>1</th>\n",
       "      <td>1</td>\n",
       "      <td>2000-02-29</td>\n",
       "      <td>2000-02</td>\n",
       "    </tr>\n",
       "    <tr>\n",
       "      <th>2</th>\n",
       "      <td>1</td>\n",
       "      <td>2000-03-31</td>\n",
       "      <td>2000-03</td>\n",
       "    </tr>\n",
       "    <tr>\n",
       "      <th>3</th>\n",
       "      <td>1</td>\n",
       "      <td>2000-04-30</td>\n",
       "      <td>2000-04</td>\n",
       "    </tr>\n",
       "    <tr>\n",
       "      <th>4</th>\n",
       "      <td>1</td>\n",
       "      <td>2000-05-31</td>\n",
       "      <td>2000-05</td>\n",
       "    </tr>\n",
       "    <tr>\n",
       "      <th>...</th>\n",
       "      <td>...</td>\n",
       "      <td>...</td>\n",
       "      <td>...</td>\n",
       "    </tr>\n",
       "    <tr>\n",
       "      <th>1719157</th>\n",
       "      <td>920118</td>\n",
       "      <td>2024-06-30</td>\n",
       "      <td>2024-06</td>\n",
       "    </tr>\n",
       "    <tr>\n",
       "      <th>1719158</th>\n",
       "      <td>920118</td>\n",
       "      <td>2024-07-31</td>\n",
       "      <td>2024-07</td>\n",
       "    </tr>\n",
       "    <tr>\n",
       "      <th>1719159</th>\n",
       "      <td>920118</td>\n",
       "      <td>2024-08-31</td>\n",
       "      <td>2024-08</td>\n",
       "    </tr>\n",
       "    <tr>\n",
       "      <th>1719160</th>\n",
       "      <td>920118</td>\n",
       "      <td>2024-09-30</td>\n",
       "      <td>2024-09</td>\n",
       "    </tr>\n",
       "    <tr>\n",
       "      <th>1719161</th>\n",
       "      <td>920118</td>\n",
       "      <td>2024-10-31</td>\n",
       "      <td>2024-10</td>\n",
       "    </tr>\n",
       "  </tbody>\n",
       "</table>\n",
       "<p>1719162 rows × 3 columns</p>\n",
       "</div>"
      ],
      "text/plain": [
       "           证券代码        交易月份       月份\n",
       "0             1  2000-01-31  2000-01\n",
       "1             1  2000-02-29  2000-02\n",
       "2             1  2000-03-31  2000-03\n",
       "3             1  2000-04-30  2000-04\n",
       "4             1  2000-05-31  2000-05\n",
       "...         ...         ...      ...\n",
       "1719157  920118  2024-06-30  2024-06\n",
       "1719158  920118  2024-07-31  2024-07\n",
       "1719159  920118  2024-08-31  2024-08\n",
       "1719160  920118  2024-09-30  2024-09\n",
       "1719161  920118  2024-10-31  2024-10\n",
       "\n",
       "[1719162 rows x 3 columns]"
      ]
     },
     "execution_count": 2,
     "metadata": {},
     "output_type": "execute_result"
    }
   ],
   "source": [
    "mon_lst = []\n",
    "for y in range(2000, 2025):\n",
    "    for m in ['01-31', '02-29' if (y % 4 == 0 and y % 100 != 0) or (y % 400 == 0) else '02-28', '03-31', '04-30', '05-31', '06-30', '07-31', '08-31', '09-30', '10-31', '11-30', '12-31']:\n",
    "        mon_lst.append(f'{y}-{m}')\n",
    "mon_df = pd.DataFrame(mon_lst[:-2], columns=['交易月份'])\n",
    "mon_df['月份'] = mon_df['交易月份'].apply(lambda x: x[:7])\n",
    "stk_df = pd.read_csv('公司文件.csv')\n",
    "stk_df['on'] = 0\n",
    "mon_df['on'] = 0\n",
    "header = pd.merge(stk_df, mon_df, on=['on'], how='left')[['证券代码', '交易月份', '月份']]\n",
    "header"
   ]
  },
  {
   "cell_type": "code",
   "execution_count": 9,
   "metadata": {},
   "outputs": [
    {
     "data": {
      "text/plain": [
       "(298, 3)"
      ]
     },
     "execution_count": 9,
     "metadata": {},
     "output_type": "execute_result"
    }
   ],
   "source": [
    "# 筛选证券代码为 1 且交易月份包含 2000 的行\n",
    "result = header[(header['证券代码'] == 1)]\n",
    "result.shape"
   ]
  },
  {
   "cell_type": "code",
   "execution_count": 12,
   "metadata": {},
   "outputs": [
    {
     "data": {
      "text/plain": [
       "array([     1,      2,      3, ..., 920088, 920099, 920118], dtype=int64)"
      ]
     },
     "execution_count": 12,
     "metadata": {},
     "output_type": "execute_result"
    }
   ],
   "source": [
    "Stkcd_list = np.unique(header['证券代码'])\n",
    "Stkcd_list"
   ]
  },
  {
   "cell_type": "code",
   "execution_count": 13,
   "metadata": {},
   "outputs": [
    {
     "data": {
      "text/plain": [
       "5769"
      ]
     },
     "execution_count": 13,
     "metadata": {},
     "output_type": "execute_result"
    }
   ],
   "source": [
    "len(Stkcd_list)"
   ]
  },
  {
   "cell_type": "code",
   "execution_count": 5,
   "metadata": {},
   "outputs": [
    {
     "data": {
      "text/html": [
       "<div>\n",
       "<style scoped>\n",
       "    .dataframe tbody tr th:only-of-type {\n",
       "        vertical-align: middle;\n",
       "    }\n",
       "\n",
       "    .dataframe tbody tr th {\n",
       "        vertical-align: top;\n",
       "    }\n",
       "\n",
       "    .dataframe thead th {\n",
       "        text-align: right;\n",
       "    }\n",
       "</style>\n",
       "<table border=\"1\" class=\"dataframe\">\n",
       "  <thead>\n",
       "    <tr style=\"text-align: right;\">\n",
       "      <th></th>\n",
       "      <th>证券代码</th>\n",
       "      <th>交易月份</th>\n",
       "      <th>ill</th>\n",
       "    </tr>\n",
       "  </thead>\n",
       "  <tbody>\n",
       "    <tr>\n",
       "      <th>0</th>\n",
       "      <td>1</td>\n",
       "      <td>2000-01-31</td>\n",
       "      <td>1.320417e-10</td>\n",
       "    </tr>\n",
       "    <tr>\n",
       "      <th>1</th>\n",
       "      <td>1</td>\n",
       "      <td>2000-02-29</td>\n",
       "      <td>7.605583e-11</td>\n",
       "    </tr>\n",
       "    <tr>\n",
       "      <th>2</th>\n",
       "      <td>1</td>\n",
       "      <td>2000-03-31</td>\n",
       "      <td>6.170962e-11</td>\n",
       "    </tr>\n",
       "    <tr>\n",
       "      <th>3</th>\n",
       "      <td>1</td>\n",
       "      <td>2000-04-30</td>\n",
       "      <td>6.758061e-11</td>\n",
       "    </tr>\n",
       "    <tr>\n",
       "      <th>4</th>\n",
       "      <td>1</td>\n",
       "      <td>2000-05-31</td>\n",
       "      <td>1.249659e-10</td>\n",
       "    </tr>\n",
       "    <tr>\n",
       "      <th>...</th>\n",
       "      <td>...</td>\n",
       "      <td>...</td>\n",
       "      <td>...</td>\n",
       "    </tr>\n",
       "    <tr>\n",
       "      <th>1719157</th>\n",
       "      <td>920118</td>\n",
       "      <td>2024-06-30</td>\n",
       "      <td>NaN</td>\n",
       "    </tr>\n",
       "    <tr>\n",
       "      <th>1719158</th>\n",
       "      <td>920118</td>\n",
       "      <td>2024-07-31</td>\n",
       "      <td>NaN</td>\n",
       "    </tr>\n",
       "    <tr>\n",
       "      <th>1719159</th>\n",
       "      <td>920118</td>\n",
       "      <td>2024-08-31</td>\n",
       "      <td>9.598799e-10</td>\n",
       "    </tr>\n",
       "    <tr>\n",
       "      <th>1719160</th>\n",
       "      <td>920118</td>\n",
       "      <td>2024-09-30</td>\n",
       "      <td>8.101226e-10</td>\n",
       "    </tr>\n",
       "    <tr>\n",
       "      <th>1719161</th>\n",
       "      <td>920118</td>\n",
       "      <td>2024-10-31</td>\n",
       "      <td>9.692068e-10</td>\n",
       "    </tr>\n",
       "  </tbody>\n",
       "</table>\n",
       "<p>1719162 rows × 3 columns</p>\n",
       "</div>"
      ],
      "text/plain": [
       "           证券代码        交易月份           ill\n",
       "0             1  2000-01-31  1.320417e-10\n",
       "1             1  2000-02-29  7.605583e-11\n",
       "2             1  2000-03-31  6.170962e-11\n",
       "3             1  2000-04-30  6.758061e-11\n",
       "4             1  2000-05-31  1.249659e-10\n",
       "...         ...         ...           ...\n",
       "1719157  920118  2024-06-30           NaN\n",
       "1719158  920118  2024-07-31           NaN\n",
       "1719159  920118  2024-08-31  9.598799e-10\n",
       "1719160  920118  2024-09-30  8.101226e-10\n",
       "1719161  920118  2024-10-31  9.692068e-10\n",
       "\n",
       "[1719162 rows x 3 columns]"
      ]
     },
     "execution_count": 5,
     "metadata": {},
     "output_type": "execute_result"
    }
   ],
   "source": [
    "# 36. ill\n",
    "# 月频率。第t月的日平均“绝对收益/交易量”。\n",
    "\n",
    "df1 = pd.read_csv('日_日个股回报率文件.csv', usecols=['证券代码', '交易日期', '不考虑现金红利的日个股回报率', '日个股交易金额'])\n",
    "df1 = df1.sort_values(by=['证券代码', '交易日期'])\n",
    "df1['月份'] = df1['交易日期'].apply(lambda x: x[:7])\n",
    "df1['ill'] = df1['不考虑现金红利的日个股回报率'].abs()/df1['日个股交易金额'].replace(0, np.nan)\n",
    "df2 = df1[['证券代码', '月份', 'ill']].groupby(['证券代码', '月份']).mean().reset_index()\n",
    "df3 = pd.merge(header, df2, on=['证券代码', '月份'], how='left')\n",
    "df4 = df3[['证券代码', '交易月份', 'ill']]\n",
    "df4.to_csv('月_36.csv', index=False, encoding='utf-8-sig')\n",
    "df4"
   ]
  },
  {
   "cell_type": "code",
   "execution_count": null,
   "metadata": {},
   "outputs": [],
   "source": [
    "df4"
   ]
  },
  {
   "cell_type": "code",
   "execution_count": null,
   "metadata": {},
   "outputs": [],
   "source": []
  }
 ],
 "metadata": {
  "kernelspec": {
   "display_name": "Python 3 (ipykernel)",
   "language": "python",
   "name": "python3"
  },
  "language_info": {
   "codemirror_mode": {
    "name": "ipython",
    "version": 3
   },
   "file_extension": ".py",
   "mimetype": "text/x-python",
   "name": "python",
   "nbconvert_exporter": "python",
   "pygments_lexer": "ipython3",
   "version": "3.9.13"
  }
 },
 "nbformat": 4,
 "nbformat_minor": 4
}
